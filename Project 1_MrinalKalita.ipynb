{
 "cells": [
  {
   "cell_type": "code",
   "execution_count": 1,
   "id": "eb4bea32",
   "metadata": {},
   "outputs": [
    {
     "name": "stdout",
     "output_type": "stream",
     "text": [
      "Bangalore 635\n",
      "Mumbai 449\n",
      "New Delhi 389\n",
      "Gurgaon 241\n",
      "Noida 79\n"
     ]
    },
    {
     "data": {
      "image/png": "[encoded data removed]",
      "text/plain": [
       "<Figure size 432x288 with 1 Axes>"
      ]
     },
     "metadata": {
      "needs_background": "light"
     },
     "output_type": "display_data"
    }
   ],
   "source": [
    "#Question 1\n",
    "import csv\n",
    "import operator\n",
    "import matplotlib.pyplot as plt\n",
    "with open('startup_funding.csv', encoding ='UTF-8') as ob:\n",
    "    data = csv.DictReader(ob, skipinitialspace=True)\n",
    "    d={}\n",
    "    for row in data:\n",
    "        city=row[\"CityLocation\"]\n",
    "        if city in d and city!='':\n",
    "            d[city]+=1\n",
    "        else:\n",
    "            d[city]=1\n",
    "    d={k: v for k, v in sorted(d.items(), key=lambda item: item[1])}\n",
    "    d = dict(sorted(d.items(), key=operator.itemgetter(1),reverse=True))\n",
    "    d[\"Bangalore\"]=d[\"Bangalore\"]+d[\"bangalore\"]\n",
    "    d['New Delhi']=d['New Delhi']+d[\"Delhi\"]\n",
    "    \n",
    "    \n",
    "    \n",
    "    f=['Bangalore', 'Mumbai', 'New Delhi', 'Gurgaon','Noida']\n",
    "    #print(f)\n",
    "    s={}\n",
    "    for i in f:\n",
    "        s[i]=d[i]\n",
    "    \n",
    "    for i in s:\n",
    "        del[d[i]]\n",
    "    for i in s:\n",
    "        for j in d:\n",
    "            if \"/\" in j:\n",
    "                if i[1:] in j[1:-1]:\n",
    "                    s[i]=s[i]+d[j]\n",
    "            \n",
    "    #print(s)\n",
    "    for k,v in s.items():\n",
    "        print(k,v)\n",
    "    Location=list(s.keys())\n",
    "    No_of_Fundings=list(s.values())\n",
    "    plt.bar(Location, No_of_Fundings, color ='maroon',width = 0.4)\n",
    " \n",
    "    plt.xlabel(\"Locations\",fontsize=18)\n",
    "    plt.ylabel(\"No. Of Investments\",fontsize=18)\n",
    "    plt.title(\"Investments\",fontsize=18)\n",
    "    plt.show()"
   ]
  },
  {
   "cell_type": "code",
   "execution_count": 1,
   "id": "3e5d6fb3",
   "metadata": {},
   "outputs": [
    {
     "name": "stdout",
     "output_type": "stream",
     "text": [
      "Sequoia Capital 64\n",
      "Accel Partners 53\n",
      "Kalaari Capital 44\n",
      "SAIF Partners 41\n",
      "Indian Angel Network 40\n"
     ]
    }
   ],
   "source": [
    "#Question 2\n",
    "import csv\n",
    "import pandas as pd\n",
    "import numpy as np\n",
    "import operator\n",
    "import matplotlib.pyplot as plt\n",
    "data = pd.read_csv('startup_funding.csv',encoding = 'utf-8')\n",
    "data=data.dropna(subset=['InvestorsName'])\n",
    "data = data[data.InvestorsName != '']\n",
    "data = data[data.InvestorsName != 'Undisclosed Investors']\n",
    "data = data[data.InvestorsName != 'undisclosed investor']\n",
    "data = data[data.InvestorsName != 'Undisclosed investors']\n",
    "data = data[data.InvestorsName != 'undisclosed investors']\n",
    "l=[]\n",
    "for i in data['InvestorsName']:\n",
    "    if \",\" in i and i!=\"\":\n",
    "        x=i.split(',')\n",
    "        for j in x:\n",
    "            l.append(j.strip())\n",
    "#print(l.count(\"Kalaari Capital\"))\n",
    "s=set(l)\n",
    "\n",
    "d={}\n",
    "for i in data[\"InvestorsName\"]:\n",
    "    if i in d:\n",
    "        d[i]=d[i]+1\n",
    "    else:\n",
    "        d[i]=1\n",
    "\n",
    "for i in s:\n",
    "    if i in d:\n",
    "        \n",
    "        d[i]=d[i]+l.count(i)\n",
    "d={k: v for k, v in sorted(d.items(), key=lambda item: item[1])}\n",
    "d = dict(sorted(d.items(), key=operator.itemgetter(1),reverse=True))\n",
    "f=list(d)\n",
    "f=f[:5]\n",
    "p={}\n",
    "for i in f:\n",
    "    p[i]=d[i]\n",
    "    print(i,p[i])\n"
   ]
  },
  {
   "cell_type": "code",
   "execution_count": 1,
   "id": "c6c15b13",
   "metadata": {},
   "outputs": [
    {
     "name": "stdout",
     "output_type": "stream",
     "text": [
      "Sequoia Capital 48\n",
      "Accel Partners 47\n",
      "Kalaari Capital 41\n",
      "Indian Angel Network 40\n",
      "Blume Ventures 36\n"
     ]
    },
    {
     "data": {
      "image/png": "[encoded data removed]",
      "text/plain": [
       "<Figure size 432x288 with 1 Axes>"
      ]
     },
     "metadata": {
      "needs_background": "light"
     },
     "output_type": "display_data"
    }
   ],
   "source": [
    "#Question 3\n",
    "import csv\n",
    "import pandas as pd\n",
    "import numpy as np\n",
    "import operator\n",
    "import matplotlib.pyplot as plt\n",
    "data = pd.read_csv('startup_funding.csv',encoding = 'utf-8')\n",
    "data=data.dropna(subset=['InvestorsName'])\n",
    "data = data[data.InvestorsName != '']\n",
    "data = data[data.InvestorsName != 'Undisclosed Investors']\n",
    "data = data[data.InvestorsName != 'undisclosed investor']\n",
    "data = data[data.InvestorsName != 'Undisclosed investors']\n",
    "data = data[data.InvestorsName != 'undisclosed investors']\n",
    "data['StartupName'].replace('Flipkart.com','Flipkart',inplace = True)\n",
    "data['StartupName'].replace('Paytm Marketplace','Paytm',inplace = True)\n",
    "for i in data['StartupName']:\n",
    "    if \"Ola\" in i:\n",
    "        data['StartupName'].replace(i,'Ola',inplace = True)\n",
    "data['StartupName'].replace('Oyorooms','Oyo',inplace = True)\n",
    "data['StartupName'].replace('OyoRooms','Oyo',inplace = True)\n",
    "data['StartupName'].replace('Oyo Rooms','Oyo',inplace = True)\n",
    "data['StartupName'].replace('OYO Rooms','Oyo',inplace = True)\n",
    "iv=[]\n",
    "sn=[]\n",
    "for k,v in data.iterrows():\n",
    "    x= v['InvestorsName']\n",
    "    y = v['StartupName']\n",
    "    \n",
    "    i = str(x)\n",
    "    l = i.split(',')\n",
    "    \n",
    "    for j in l:\n",
    "        if j != '':\n",
    "            j = j.strip()\n",
    "            iv.append(j)\n",
    "            sn.append(y)\n",
    "\n",
    "d = pd.DataFrame({'InvestorsName' : iv,'StartupName' : sn})\n",
    "d = d.groupby('InvestorsName')['StartupName'].nunique()\n",
    "d = d.sort_values(ascending = False)\n",
    "\n",
    "n = []\n",
    "p = []\n",
    "for i in range(5):\n",
    "    print(d.index[i],d.values[i])\n",
    "    n.append(d.index[i])\n",
    "    p.append(d.values[i])\n",
    "    \n",
    "plt.bar(n,p)\n",
    "plt.xticks(rotation=40)\n",
    "plt.xlabel('Top Five Investors')\n",
    "plt.ylabel('Number Of Investment')\n",
    "plt.title('Top Investors')\n",
    "plt.show()"
   ]
  },
  {
   "cell_type": "code",
   "execution_count": 2,
   "id": "5a406997",
   "metadata": {},
   "outputs": [
    {
     "name": "stdout",
     "output_type": "stream",
     "text": [
      "Indian Angel Network 33\n",
      "Rajan Anandan 23\n",
      "LetsVenture 16\n",
      "Anupam Mittal 16\n",
      "Group of Angel Investors 14\n"
     ]
    },
    {
     "data": {
      "image/png": "[encoded data removed]",
      "text/plain": [
       "<Figure size 432x288 with 1 Axes>"
      ]
     },
     "metadata": {
      "needs_background": "light"
     },
     "output_type": "display_data"
    }
   ],
   "source": [
    "#Question 4\n",
    "import csv\n",
    "import pandas as pd\n",
    "import numpy as np\n",
    "import operator\n",
    "import matplotlib.pyplot as plt\n",
    "data = pd.read_csv('startup_funding.csv',encoding = 'utf-8')\n",
    "data=data.dropna(subset=['InvestorsName'])\n",
    "\n",
    "data['InvestmentType'].replace('PrivateEquity','Private Equity',inplace=True)\n",
    "data['InvestmentType'].replace('Crowd funding','Crowd Funding',inplace=True)\n",
    "data['InvestmentType'].replace('SeedFunding','Seed Funding',inplace=True)\n",
    "\n",
    "data = data[data.InvestorsName != '']\n",
    "data = data[data.InvestorsName != 'Undisclosed Investors']\n",
    "data = data[data.InvestorsName != 'undisclosed investor']\n",
    "data = data[data.InvestorsName != 'Undisclosed investors']\n",
    "data = data[data.InvestorsName != 'undisclosed investors']\n",
    "\n",
    "data['StartupName'].replace('Flipkart.com','Flipkart',inplace = True)\n",
    "data['StartupName'].replace('Paytm Marketplace','Paytm',inplace = True)\n",
    "for i in data['StartupName']:\n",
    "    if \"Ola\" in i:\n",
    "        data['StartupName'].replace(i,'Ola',inplace = True)\n",
    "data['StartupName'].replace('Oyorooms','Oyo',inplace = True)\n",
    "data['StartupName'].replace('OyoRooms','Oyo',inplace = True)\n",
    "data['StartupName'].replace('Oyo Rooms','Oyo',inplace = True)\n",
    "data['StartupName'].replace('OYO Rooms','Oyo',inplace = True)\n",
    "\n",
    "data = data[(data.InvestmentType =='Seed Funding') | (data.InvestmentType == 'Crowd Funding')]\n",
    "\n",
    "iv=[]\n",
    "sn=[]\n",
    "for k,v in data.iterrows():\n",
    "    x= v['InvestorsName']\n",
    "    y = v['StartupName']\n",
    "    \n",
    "    i = str(x)\n",
    "    l = i.split(',')\n",
    "    \n",
    "    for j in l:\n",
    "        if j != '':\n",
    "            j = j.strip()\n",
    "            iv.append(j)\n",
    "            sn.append(y)\n",
    "\n",
    "d = pd.DataFrame({'InvestorsName' : iv,'StartupName' : sn})\n",
    "d = d.groupby('InvestorsName')['StartupName'].nunique()\n",
    "d = d.sort_values(ascending = False)\n",
    "\n",
    "n = []\n",
    "p = []\n",
    "for i in range(5):\n",
    "    print(d.index[i],d.values[i])\n",
    "    n.append(d.index[i])\n",
    "    p.append(d.values[i])\n",
    "    \n",
    "plt.bar(n,p)\n",
    "plt.xlabel('Top Five Investors')\n",
    "plt.ylabel('Number Of Investment')\n",
    "plt.title('Top Investors')\n",
    "plt.xticks(rotation=40)\n",
    "plt.show()"
   ]
  },
  {
   "cell_type": "code",
   "execution_count": 3,
   "id": "358f9f0e",
   "metadata": {},
   "outputs": [
    {
     "name": "stdout",
     "output_type": "stream",
     "text": [
      "Sequoia Capital 45\n",
      "Accel Partners 43\n",
      "Kalaari Capital 35\n",
      "Blume Ventures 27\n",
      "SAIF Partners 24\n"
     ]
    },
    {
     "data": {
      "image/png": "[encoded data removed]",
      "text/plain": [
       "<Figure size 432x288 with 1 Axes>"
      ]
     },
     "metadata": {
      "needs_background": "light"
     },
     "output_type": "display_data"
    }
   ],
   "source": [
    "#Question 5\n",
    "import csv\n",
    "import pandas as pd\n",
    "import numpy as np\n",
    "import operator\n",
    "import matplotlib.pyplot as plt\n",
    "data = pd.read_csv('startup_funding.csv',encoding = 'utf-8')\n",
    "data=data.dropna(subset=['InvestorsName'])\n",
    "\n",
    "data['InvestmentType'].replace('PrivateEquity','Private Equity',inplace=True)\n",
    "data['InvestmentType'].replace('Crowd funding','Crowd Funding',inplace=True)\n",
    "data['InvestmentType'].replace('SeedFunding','Seed Funding',inplace=True)\n",
    "\n",
    "data = data[data.InvestorsName != '']\n",
    "data = data[data.InvestorsName != 'Undisclosed Investors']\n",
    "data = data[data.InvestorsName != 'undisclosed investor']\n",
    "data = data[data.InvestorsName != 'Undisclosed investors']\n",
    "data = data[data.InvestorsName != 'undisclosed investors']\n",
    "\n",
    "data['StartupName'].replace('Flipkart.com','Flipkart',inplace = True)\n",
    "data['StartupName'].replace('Paytm Marketplace','Paytm',inplace = True)\n",
    "for i in data['StartupName']:\n",
    "    if \"Ola\" in i:\n",
    "        data['StartupName'].replace(i,'Ola',inplace = True)\n",
    "data['StartupName'].replace('Oyorooms','Oyo',inplace = True)\n",
    "data['StartupName'].replace('OyoRooms','Oyo',inplace = True)\n",
    "data['StartupName'].replace('Oyo Rooms','Oyo',inplace = True)\n",
    "data['StartupName'].replace('OYO Rooms','Oyo',inplace = True)\n",
    "\n",
    "data = data[(data.InvestmentType =='Private Equity')]\n",
    "\n",
    "iv=[]\n",
    "sn=[]\n",
    "for k,v in data.iterrows():\n",
    "    x= v['InvestorsName']\n",
    "    y = v['StartupName']\n",
    "    \n",
    "    i = str(x)\n",
    "    l = i.split(',')\n",
    "    \n",
    "    for j in l:\n",
    "        if j != '':\n",
    "            j = j.strip()\n",
    "            iv.append(j)\n",
    "            sn.append(y)\n",
    "\n",
    "d = pd.DataFrame({'InvestorsName' : iv,'StartupName' : sn})\n",
    "d = d.groupby('InvestorsName')['StartupName'].nunique()\n",
    "d = d.sort_values(ascending = False)\n",
    "\n",
    "n = []\n",
    "p = []\n",
    "for i in range(5):\n",
    "    print(d.index[i],d.values[i])\n",
    "    n.append(d.index[i])\n",
    "    p.append(d.values[i])\n",
    "    \n",
    "plt.bar(n,p)\n",
    "plt.xlabel('Top Five Investors')\n",
    "plt.ylabel('Number Of Investment')\n",
    "plt.title('Top Investors')\n",
    "plt.xticks(rotation=40)\n",
    "plt.show()"
   ]
  },
  {
   "cell_type": "code",
   "execution_count": null,
   "id": "fb21ec33",
   "metadata": {},
   "outputs": [],
   "source": []
  }
 ],
 "metadata": {
  "kernelspec": {
   "display_name": "Python 3",
   "language": "python",
   "name": "python3"
  },
  "language_info": {
   "codemirror_mode": {
    "name": "ipython",
    "version": 3
   },
   "file_extension": ".py",
   "mimetype": "text/x-python",
   "name": "python",
   "nbconvert_exporter": "python",
   "pygments_lexer": "ipython3",
   "version": "3.8.8"
  }
 },
 "nbformat": 4,
 "nbformat_minor": 5
}
